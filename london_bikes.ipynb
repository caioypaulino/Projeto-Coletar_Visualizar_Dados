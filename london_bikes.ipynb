{
 "cells": [
  {
   "cell_type": "code",
   "execution_count": 18,
   "id": "initial_id",
   "metadata": {
    "collapsed": true,
    "ExecuteTime": {
     "end_time": "2024-01-30T16:14:16.855752600Z",
     "start_time": "2024-01-30T16:14:16.845236400Z"
    }
   },
   "outputs": [],
   "source": [
    "import pandas as pd\n",
    "import zipfile\n",
    "import kaggle"
   ]
  },
  {
   "cell_type": "code",
   "outputs": [
    {
     "name": "stdout",
     "output_type": "stream",
     "text": [
      "london-bike-sharing-dataset.zip: Skipping, found more recently modified local copy (use --force to force download)\n"
     ]
    }
   ],
   "source": [
    "# api kaggle para download do dataset\n",
    "!kaggle datasets download -d hmavrodiev/london-bike-sharing-dataset"
   ],
   "metadata": {
    "collapsed": false,
    "ExecuteTime": {
     "end_time": "2024-01-30T16:14:18.419025700Z",
     "start_time": "2024-01-30T16:14:16.859754Z"
    }
   },
   "id": "5169071f3acbb29e",
   "execution_count": 19
  },
  {
   "cell_type": "code",
   "outputs": [],
   "source": [
    "# extraindo arquivo da pasta .zip baixada\n",
    "with zipfile.ZipFile('london-bike-sharing-dataset.zip', 'r') as file:\n",
    "    file.extractall()"
   ],
   "metadata": {
    "collapsed": false,
    "ExecuteTime": {
     "end_time": "2024-01-30T16:14:18.441941400Z",
     "start_time": "2024-01-30T16:14:18.417025500Z"
    }
   },
   "id": "ef2a858b3e9a8c35",
   "execution_count": 20
  },
  {
   "cell_type": "code",
   "outputs": [],
   "source": [
    "# criando um dataframe com pandas a partir do arquivo csv\n",
    "bikes = pd.read_csv(\"london_merged.csv\")"
   ],
   "metadata": {
    "collapsed": false,
    "ExecuteTime": {
     "end_time": "2024-01-30T16:14:18.475852Z",
     "start_time": "2024-01-30T16:14:18.427939600Z"
    }
   },
   "id": "e71699d000e9a183",
   "execution_count": 21
  },
  {
   "cell_type": "code",
   "outputs": [
    {
     "name": "stdout",
     "output_type": "stream",
     "text": [
      "<class 'pandas.core.frame.DataFrame'>\n",
      "RangeIndex: 17414 entries, 0 to 17413\n",
      "Data columns (total 10 columns):\n",
      " #   Column        Non-Null Count  Dtype  \n",
      "---  ------        --------------  -----  \n",
      " 0   timestamp     17414 non-null  object \n",
      " 1   cnt           17414 non-null  int64  \n",
      " 2   t1            17414 non-null  float64\n",
      " 3   t2            17414 non-null  float64\n",
      " 4   hum           17414 non-null  float64\n",
      " 5   wind_speed    17414 non-null  float64\n",
      " 6   weather_code  17414 non-null  float64\n",
      " 7   is_holiday    17414 non-null  float64\n",
      " 8   is_weekend    17414 non-null  float64\n",
      " 9   season        17414 non-null  float64\n",
      "dtypes: float64(8), int64(1), object(1)\n",
      "memory usage: 1.3+ MB\n"
     ]
    }
   ],
   "source": [
    "# explorando os dados\n",
    "bikes.info()"
   ],
   "metadata": {
    "collapsed": false,
    "ExecuteTime": {
     "end_time": "2024-01-30T16:14:18.477856600Z",
     "start_time": "2024-01-30T16:14:18.446724300Z"
    }
   },
   "id": "986bfc6b7f1fb21c",
   "execution_count": 22
  },
  {
   "cell_type": "code",
   "outputs": [
    {
     "data": {
      "text/plain": "(17414, 10)"
     },
     "execution_count": 23,
     "metadata": {},
     "output_type": "execute_result"
    }
   ],
   "source": [
    "# rows & columns || linhas & colunas\n",
    "bikes.shape"
   ],
   "metadata": {
    "collapsed": false,
    "ExecuteTime": {
     "end_time": "2024-01-30T16:14:18.478853Z",
     "start_time": "2024-01-30T16:14:18.456970100Z"
    }
   },
   "id": "db576bb396d0cec8",
   "execution_count": 23
  },
  {
   "cell_type": "code",
   "outputs": [
    {
     "data": {
      "text/plain": "              timestamp  cnt    t1    t2    hum  wind_speed  weather_code  \\\n0   2015-01-04 00:00:00  182   3.0   2.0   93.0         6.0           3.0   \n1   2015-01-04 01:00:00  138   3.0   2.5   93.0         5.0           1.0   \n2   2015-01-04 02:00:00  134   2.5   2.5   96.5         0.0           1.0   \n3   2015-01-04 03:00:00   72   2.0   2.0  100.0         0.0           1.0   \n4   2015-01-04 04:00:00   47   2.0   0.0   93.0         6.5           1.0   \n..                  ...  ...   ...   ...    ...         ...           ...   \n95  2015-01-08 00:00:00  123  11.0  11.0   82.0        26.0           4.0   \n96  2015-01-08 01:00:00   56  11.5  11.5   85.0        24.0           3.0   \n97  2015-01-08 02:00:00   51  12.0  12.0   82.0        25.0           3.0   \n98  2015-01-08 03:00:00   33  12.0  12.0   85.0        22.0           3.0   \n99  2015-01-08 04:00:00   32  12.0  12.0   88.0        20.5           7.0   \n\n    is_holiday  is_weekend  season  \n0          0.0         1.0     3.0  \n1          0.0         1.0     3.0  \n2          0.0         1.0     3.0  \n3          0.0         1.0     3.0  \n4          0.0         1.0     3.0  \n..         ...         ...     ...  \n95         0.0         0.0     3.0  \n96         0.0         0.0     3.0  \n97         0.0         0.0     3.0  \n98         0.0         0.0     3.0  \n99         0.0         0.0     3.0  \n\n[100 rows x 10 columns]",
      "text/html": "<div>\n<style scoped>\n    .dataframe tbody tr th:only-of-type {\n        vertical-align: middle;\n    }\n\n    .dataframe tbody tr th {\n        vertical-align: top;\n    }\n\n    .dataframe thead th {\n        text-align: right;\n    }\n</style>\n<table border=\"1\" class=\"dataframe\">\n  <thead>\n    <tr style=\"text-align: right;\">\n      <th></th>\n      <th>timestamp</th>\n      <th>cnt</th>\n      <th>t1</th>\n      <th>t2</th>\n      <th>hum</th>\n      <th>wind_speed</th>\n      <th>weather_code</th>\n      <th>is_holiday</th>\n      <th>is_weekend</th>\n      <th>season</th>\n    </tr>\n  </thead>\n  <tbody>\n    <tr>\n      <th>0</th>\n      <td>2015-01-04 00:00:00</td>\n      <td>182</td>\n      <td>3.0</td>\n      <td>2.0</td>\n      <td>93.0</td>\n      <td>6.0</td>\n      <td>3.0</td>\n      <td>0.0</td>\n      <td>1.0</td>\n      <td>3.0</td>\n    </tr>\n    <tr>\n      <th>1</th>\n      <td>2015-01-04 01:00:00</td>\n      <td>138</td>\n      <td>3.0</td>\n      <td>2.5</td>\n      <td>93.0</td>\n      <td>5.0</td>\n      <td>1.0</td>\n      <td>0.0</td>\n      <td>1.0</td>\n      <td>3.0</td>\n    </tr>\n    <tr>\n      <th>2</th>\n      <td>2015-01-04 02:00:00</td>\n      <td>134</td>\n      <td>2.5</td>\n      <td>2.5</td>\n      <td>96.5</td>\n      <td>0.0</td>\n      <td>1.0</td>\n      <td>0.0</td>\n      <td>1.0</td>\n      <td>3.0</td>\n    </tr>\n    <tr>\n      <th>3</th>\n      <td>2015-01-04 03:00:00</td>\n      <td>72</td>\n      <td>2.0</td>\n      <td>2.0</td>\n      <td>100.0</td>\n      <td>0.0</td>\n      <td>1.0</td>\n      <td>0.0</td>\n      <td>1.0</td>\n      <td>3.0</td>\n    </tr>\n    <tr>\n      <th>4</th>\n      <td>2015-01-04 04:00:00</td>\n      <td>47</td>\n      <td>2.0</td>\n      <td>0.0</td>\n      <td>93.0</td>\n      <td>6.5</td>\n      <td>1.0</td>\n      <td>0.0</td>\n      <td>1.0</td>\n      <td>3.0</td>\n    </tr>\n    <tr>\n      <th>...</th>\n      <td>...</td>\n      <td>...</td>\n      <td>...</td>\n      <td>...</td>\n      <td>...</td>\n      <td>...</td>\n      <td>...</td>\n      <td>...</td>\n      <td>...</td>\n      <td>...</td>\n    </tr>\n    <tr>\n      <th>95</th>\n      <td>2015-01-08 00:00:00</td>\n      <td>123</td>\n      <td>11.0</td>\n      <td>11.0</td>\n      <td>82.0</td>\n      <td>26.0</td>\n      <td>4.0</td>\n      <td>0.0</td>\n      <td>0.0</td>\n      <td>3.0</td>\n    </tr>\n    <tr>\n      <th>96</th>\n      <td>2015-01-08 01:00:00</td>\n      <td>56</td>\n      <td>11.5</td>\n      <td>11.5</td>\n      <td>85.0</td>\n      <td>24.0</td>\n      <td>3.0</td>\n      <td>0.0</td>\n      <td>0.0</td>\n      <td>3.0</td>\n    </tr>\n    <tr>\n      <th>97</th>\n      <td>2015-01-08 02:00:00</td>\n      <td>51</td>\n      <td>12.0</td>\n      <td>12.0</td>\n      <td>82.0</td>\n      <td>25.0</td>\n      <td>3.0</td>\n      <td>0.0</td>\n      <td>0.0</td>\n      <td>3.0</td>\n    </tr>\n    <tr>\n      <th>98</th>\n      <td>2015-01-08 03:00:00</td>\n      <td>33</td>\n      <td>12.0</td>\n      <td>12.0</td>\n      <td>85.0</td>\n      <td>22.0</td>\n      <td>3.0</td>\n      <td>0.0</td>\n      <td>0.0</td>\n      <td>3.0</td>\n    </tr>\n    <tr>\n      <th>99</th>\n      <td>2015-01-08 04:00:00</td>\n      <td>32</td>\n      <td>12.0</td>\n      <td>12.0</td>\n      <td>88.0</td>\n      <td>20.5</td>\n      <td>7.0</td>\n      <td>0.0</td>\n      <td>0.0</td>\n      <td>3.0</td>\n    </tr>\n  </tbody>\n</table>\n<p>100 rows × 10 columns</p>\n</div>"
     },
     "execution_count": 24,
     "metadata": {},
     "output_type": "execute_result"
    }
   ],
   "source": [
    "bikes.head(100)"
   ],
   "metadata": {
    "collapsed": false,
    "ExecuteTime": {
     "end_time": "2024-01-30T16:14:18.532345900Z",
     "start_time": "2024-01-30T16:14:18.461876400Z"
    }
   },
   "id": "1e48e18213bbc4bc",
   "execution_count": 24
  },
  {
   "cell_type": "code",
   "outputs": [
    {
     "data": {
      "text/plain": "weather_code\n1.0     6150\n2.0     4034\n3.0     3551\n7.0     2141\n4.0     1464\n26.0      60\n10.0      14\nName: count, dtype: int64"
     },
     "execution_count": 25,
     "metadata": {},
     "output_type": "execute_result"
    }
   ],
   "source": [
    "bikes['weather_code'].value_counts()"
   ],
   "metadata": {
    "collapsed": false,
    "ExecuteTime": {
     "end_time": "2024-01-30T16:14:18.534352800Z",
     "start_time": "2024-01-30T16:14:18.476852400Z"
    }
   },
   "id": "302a2732028aecaa",
   "execution_count": 25
  },
  {
   "cell_type": "code",
   "outputs": [
    {
     "data": {
      "text/plain": "season\n0.0    4394\n1.0    4387\n3.0    4330\n2.0    4303\nName: count, dtype: int64"
     },
     "execution_count": 26,
     "metadata": {},
     "output_type": "execute_result"
    }
   ],
   "source": [
    "bikes['season'].value_counts()"
   ],
   "metadata": {
    "collapsed": false,
    "ExecuteTime": {
     "end_time": "2024-01-30T16:14:18.535353400Z",
     "start_time": "2024-01-30T16:14:18.486301700Z"
    }
   },
   "id": "420ce68b8c1495d6",
   "execution_count": 26
  },
  {
   "cell_type": "code",
   "outputs": [],
   "source": [
    "# renomeando colunas com dicionário personalizado\n",
    "new_columns = {\n",
    "    'timestamp':'time', \n",
    "    'cnt':'count', \n",
    "    't1':'temp_real_C', \n",
    "    't2':'temp_feels_like_C', \n",
    "    'hum':'humidity_percent', \n",
    "    'wind_speed':'wind_speed_kph', \n",
    "    'weather_code':'weather', \n",
    "    'is_holiday':'is_holiday', \n",
    "    'is_weekend':'is_weekend', \n",
    "    'season':'season'    \n",
    "}\n",
    "\n",
    "bikes.rename(new_columns, axis=1, inplace=True)\n",
    "    "
   ],
   "metadata": {
    "collapsed": false,
    "ExecuteTime": {
     "end_time": "2024-01-30T16:14:18.560612500Z",
     "start_time": "2024-01-30T16:14:18.494655200Z"
    }
   },
   "id": "a4a5e42002394bcd",
   "execution_count": 27
  },
  {
   "cell_type": "code",
   "outputs": [
    {
     "data": {
      "text/plain": "array(['time', 'count', 'temp_real_C', 'temp_feels_like_C',\n       'humidity_percent', 'wind_speed_kph', 'weather', 'is_holiday',\n       'is_weekend', 'season'], dtype=object)"
     },
     "execution_count": 28,
     "metadata": {},
     "output_type": "execute_result"
    }
   ],
   "source": [
    "# checando o nome das colunas alteradas\n",
    "bikes.columns.values"
   ],
   "metadata": {
    "collapsed": false,
    "ExecuteTime": {
     "end_time": "2024-01-30T16:14:18.600629300Z",
     "start_time": "2024-01-30T16:14:18.500033600Z"
    }
   },
   "id": "6ee060993ca0bd88",
   "execution_count": 28
  },
  {
   "cell_type": "code",
   "outputs": [],
   "source": [
    "# alterando valores de humidade para percentual\n",
    "bikes['humidity_percent'] = bikes['humidity_percent']/100"
   ],
   "metadata": {
    "collapsed": false,
    "ExecuteTime": {
     "end_time": "2024-01-30T16:14:18.601631Z",
     "start_time": "2024-01-30T16:14:18.508547Z"
    }
   },
   "id": "791a669cb6fb9ee5",
   "execution_count": 29
  },
  {
   "cell_type": "code",
   "outputs": [],
   "source": [
    "# criando um dicionário personalizado para alterar os valores int de 'season' para str conforme escrito na documentação\n",
    "season_dict = {\n",
    "    '0.0':'Spring',\n",
    "    '1.0':'Summer',\n",
    "    '2.0':'Autumn',\n",
    "    '3.0':'Winter'\n",
    "}\n",
    "\n",
    "# criando um dicionário personalizado para alterar os valores int de 'weather' para str conforme escrito na documentação\n",
    "weather_dict = {\n",
    "    '1.0':'Clear',\n",
    "    '2.0':'Scattered clouds',\n",
    "    '3.0':'Broken clouds',\n",
    "    '4.0':'Cloudy',\n",
    "    '7.0':'Rain',\n",
    "    '10.0':'Rain with thunderstorm',\n",
    "    '26.0':'Snowfall'\n",
    "}\n",
    "\n",
    "# mudando tipo de dados para string e atualizando valores\n",
    "bikes['season'] = bikes['season'].astype('str')\n",
    "bikes['season']  = bikes['season'].map(season_dict)\n",
    "\n",
    "# mudando tipo de dados para string e atualizando valores\n",
    "bikes['weather'] = bikes['weather'].astype('str')\n",
    "bikes['weather'] = bikes['weather'].map(weather_dict)"
   ],
   "metadata": {
    "collapsed": false,
    "ExecuteTime": {
     "end_time": "2024-01-30T16:14:18.602636900Z",
     "start_time": "2024-01-30T16:14:18.516966700Z"
    }
   },
   "id": "1b3afc3557689a2f",
   "execution_count": 30
  },
  {
   "cell_type": "code",
   "outputs": [
    {
     "data": {
      "text/plain": "                  time  count  temp_real_C  temp_feels_like_C  \\\n0  2015-01-04 00:00:00    182          3.0                2.0   \n1  2015-01-04 01:00:00    138          3.0                2.5   \n2  2015-01-04 02:00:00    134          2.5                2.5   \n3  2015-01-04 03:00:00     72          2.0                2.0   \n4  2015-01-04 04:00:00     47          2.0                0.0   \n\n   humidity_percent  wind_speed_kph        weather  is_holiday  is_weekend  \\\n0             0.930             6.0  Broken clouds         0.0         1.0   \n1             0.930             5.0          Clear         0.0         1.0   \n2             0.965             0.0          Clear         0.0         1.0   \n3             1.000             0.0          Clear         0.0         1.0   \n4             0.930             6.5          Clear         0.0         1.0   \n\n   season  \n0  Winter  \n1  Winter  \n2  Winter  \n3  Winter  \n4  Winter  ",
      "text/html": "<div>\n<style scoped>\n    .dataframe tbody tr th:only-of-type {\n        vertical-align: middle;\n    }\n\n    .dataframe tbody tr th {\n        vertical-align: top;\n    }\n\n    .dataframe thead th {\n        text-align: right;\n    }\n</style>\n<table border=\"1\" class=\"dataframe\">\n  <thead>\n    <tr style=\"text-align: right;\">\n      <th></th>\n      <th>time</th>\n      <th>count</th>\n      <th>temp_real_C</th>\n      <th>temp_feels_like_C</th>\n      <th>humidity_percent</th>\n      <th>wind_speed_kph</th>\n      <th>weather</th>\n      <th>is_holiday</th>\n      <th>is_weekend</th>\n      <th>season</th>\n    </tr>\n  </thead>\n  <tbody>\n    <tr>\n      <th>0</th>\n      <td>2015-01-04 00:00:00</td>\n      <td>182</td>\n      <td>3.0</td>\n      <td>2.0</td>\n      <td>0.930</td>\n      <td>6.0</td>\n      <td>Broken clouds</td>\n      <td>0.0</td>\n      <td>1.0</td>\n      <td>Winter</td>\n    </tr>\n    <tr>\n      <th>1</th>\n      <td>2015-01-04 01:00:00</td>\n      <td>138</td>\n      <td>3.0</td>\n      <td>2.5</td>\n      <td>0.930</td>\n      <td>5.0</td>\n      <td>Clear</td>\n      <td>0.0</td>\n      <td>1.0</td>\n      <td>Winter</td>\n    </tr>\n    <tr>\n      <th>2</th>\n      <td>2015-01-04 02:00:00</td>\n      <td>134</td>\n      <td>2.5</td>\n      <td>2.5</td>\n      <td>0.965</td>\n      <td>0.0</td>\n      <td>Clear</td>\n      <td>0.0</td>\n      <td>1.0</td>\n      <td>Winter</td>\n    </tr>\n    <tr>\n      <th>3</th>\n      <td>2015-01-04 03:00:00</td>\n      <td>72</td>\n      <td>2.0</td>\n      <td>2.0</td>\n      <td>1.000</td>\n      <td>0.0</td>\n      <td>Clear</td>\n      <td>0.0</td>\n      <td>1.0</td>\n      <td>Winter</td>\n    </tr>\n    <tr>\n      <th>4</th>\n      <td>2015-01-04 04:00:00</td>\n      <td>47</td>\n      <td>2.0</td>\n      <td>0.0</td>\n      <td>0.930</td>\n      <td>6.5</td>\n      <td>Clear</td>\n      <td>0.0</td>\n      <td>1.0</td>\n      <td>Winter</td>\n    </tr>\n  </tbody>\n</table>\n</div>"
     },
     "execution_count": 31,
     "metadata": {},
     "output_type": "execute_result"
    }
   ],
   "source": [
    "bikes.head()"
   ],
   "metadata": {
    "collapsed": false,
    "ExecuteTime": {
     "end_time": "2024-01-30T16:14:18.604630700Z",
     "start_time": "2024-01-30T16:14:18.535353400Z"
    }
   },
   "id": "1afc9f3b00a982c",
   "execution_count": 31
  },
  {
   "cell_type": "code",
   "outputs": [],
   "source": [
    "# exportando versão final DataFrame para arquivo .xlsx\n",
    "bikes.to_excel('london_bikes_final.xlsx', sheet_name = 'Data')"
   ],
   "metadata": {
    "collapsed": false,
    "ExecuteTime": {
     "end_time": "2024-01-30T16:14:21.418236300Z",
     "start_time": "2024-01-30T16:14:18.544608900Z"
    }
   },
   "id": "fc21ab82ae7a202d",
   "execution_count": 32
  }
 ],
 "metadata": {
  "kernelspec": {
   "display_name": "Python 3",
   "language": "python",
   "name": "python3"
  },
  "language_info": {
   "codemirror_mode": {
    "name": "ipython",
    "version": 2
   },
   "file_extension": ".py",
   "mimetype": "text/x-python",
   "name": "python",
   "nbconvert_exporter": "python",
   "pygments_lexer": "ipython2",
   "version": "2.7.6"
  }
 },
 "nbformat": 4,
 "nbformat_minor": 5
}
